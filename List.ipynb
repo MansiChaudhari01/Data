{
 "cells": [
  {
   "cell_type": "markdown",
   "metadata": {},
   "source": [
    "# Python Lists"
   ]
  },
  {
   "cell_type": "code",
   "execution_count": null,
   "metadata": {},
   "outputs": [],
   "source": [
    "l1 = ['apple','banana','mango']\n",
    "l1[2] = 'pears'\n",
    "\n",
    "#['apple', 'banana', 'pears']\n",
    "l1[2][2] = m"
   ]
  },
  {
   "cell_type": "markdown",
   "metadata": {},
   "source": [
    "# Accessing Values in Lists"
   ]
  },
  {
   "cell_type": "code",
   "execution_count": 1,
   "metadata": {},
   "outputs": [
    {
     "name": "stdout",
     "output_type": "stream",
     "text": [
      "1\n",
      "5\n",
      "14\n",
      "30\n"
     ]
    }
   ],
   "source": [
    "squares = [1, 4, 9, 16]\n",
    "sum = 0\n",
    "for num in squares:\n",
    "    sum += num\n",
    "    print(sum)"
   ]
  },
  {
   "cell_type": "code",
   "execution_count": 2,
   "metadata": {},
   "outputs": [
    {
     "name": "stdout",
     "output_type": "stream",
     "text": [
      "ram\n"
     ]
    }
   ],
   "source": [
    "list = ['meera', 'ram', 'lakshamn']\n",
    "if 'ram' in list:\n",
    "    print('ram')"
   ]
  },
  {
   "cell_type": "markdown",
   "metadata": {},
   "source": [
    "# Function in list"
   ]
  },
  {
   "cell_type": "markdown",
   "metadata": {},
   "source": [
    "### len()"
   ]
  },
  {
   "cell_type": "code",
   "execution_count": 3,
   "metadata": {},
   "outputs": [
    {
     "name": "stdout",
     "output_type": "stream",
     "text": [
      "3\n"
     ]
    }
   ],
   "source": [
    "a = ['meera', 'ram', 'lakshamn']\n",
    "print(len(a))"
   ]
  },
  {
   "cell_type": "markdown",
   "metadata": {},
   "source": [
    "### max(iterable, *[, key, default])\n",
    "### max(arg1, arg2, *args[, key])"
   ]
  },
  {
   "cell_type": "code",
   "execution_count": 5,
   "metadata": {},
   "outputs": [
    {
     "name": "stdout",
     "output_type": "stream",
     "text": [
      "spyder\n",
      "wasp\n",
      "[1, 2, 3, 4, 5]\n"
     ]
    }
   ],
   "source": [
    "a = [\"bee\", \"spyder\", \"ant\"]\n",
    "print(max(a))\n",
    "\n",
    "a = [\"bee\", \"spyder\", \"wasp\"]\n",
    "print(max(a))\n",
    "\n",
    "a = [1, 2, 3, 4, 5]\n",
    "b = [1, 2, 3, 4]\n",
    "print(max(a, b))"
   ]
  },
  {
   "cell_type": "markdown",
   "metadata": {},
   "source": [
    "### min(iterable, *[, key, default])\n",
    "### min(arg1, arg2, *args[, key])"
   ]
  },
  {
   "cell_type": "code",
   "execution_count": 6,
   "metadata": {},
   "outputs": [
    {
     "name": "stdout",
     "output_type": "stream",
     "text": [
      "bee\n",
      "ant\n",
      "[1, 2, 3, 4]\n"
     ]
    }
   ],
   "source": [
    "a = [\"bee\", \"spyder\", \"birds\"]\n",
    "print(min(a))\n",
    "\n",
    "a = [\"bee\", \"spyder\", \"ant\"]\n",
    "print(min(a))\n",
    "\n",
    "a = [1, 2, 3, 4, 5]\n",
    "b = [1, 2, 3, 4]\n",
    "print(min(a, b))"
   ]
  },
  {
   "cell_type": "code",
   "execution_count": 7,
   "metadata": {},
   "outputs": [
    {
     "name": "stdout",
     "output_type": "stream",
     "text": [
      "The maximum value in the list is - 90\n",
      "The minimum value in the list is - 2\n"
     ]
    }
   ],
   "source": [
    "my_list = [12, 2, 5, 90, 30, 40, 3]\n",
    "print(f'The maximum value in the list is - {max(my_list)}')\n",
    "print(f'The minimum value in the list is - {min(my_list)}')\n"
   ]
  },
  {
   "cell_type": "markdown",
   "metadata": {},
   "source": [
    "### range(stop)\n",
    "### range(start, stop[, step])"
   ]
  },
  {
   "cell_type": "code",
   "execution_count": 8,
   "metadata": {},
   "outputs": [
    {
     "name": "stdout",
     "output_type": "stream",
     "text": [
      "Ram\n",
      "Shyam\n",
      "10\n",
      "Bilal\n",
      "13.2\n",
      "Feroz\n"
     ]
    }
   ],
   "source": [
    "myList = ['Ram', 'Shyam', 10, 'Bilal', 13.2, 'Feroz'];\n",
    "for x in range(len(myList)):\n",
    "    print(myList[x])"
   ]
  },
  {
   "cell_type": "markdown",
   "metadata": {},
   "source": [
    "# Methods & Description"
   ]
  },
  {
   "cell_type": "markdown",
   "metadata": {},
   "source": [
    "            Adding an element to the list in Python\n",
    "            Adding an element to the existing list can be performed using the following built-in methods.\n",
    "            extend adding element at the end\n",
    "\n",
    "            append(value)\n",
    "            insert(index, value)\n",
    "            extend"
   ]
  },
  {
   "cell_type": "markdown",
   "metadata": {},
   "source": [
    "### 1.append(x)"
   ]
  },
  {
   "cell_type": "code",
   "execution_count": 9,
   "metadata": {},
   "outputs": [
    {
     "name": "stdout",
     "output_type": "stream",
     "text": [
      "['Rama', 'Shyam']\n",
      "['Rama', 'Shyam', 'swati']\n"
     ]
    }
   ],
   "source": [
    "a = [\"Rama\", \"Shyam\"]\n",
    "print(a)\n",
    "a.append(\"swati\")\n",
    "print(a)"
   ]
  },
  {
   "cell_type": "code",
   "execution_count": 10,
   "metadata": {},
   "outputs": [
    {
     "name": "stdout",
     "output_type": "stream",
     "text": [
      "[1, 2, 3, [4, 5]]\n"
     ]
    }
   ],
   "source": [
    "x = [1, 2, 3]\n",
    "x.append([4, 5])\n",
    "print (x)"
   ]
  },
  {
   "cell_type": "code",
   "execution_count": 11,
   "metadata": {},
   "outputs": [
    {
     "name": "stdout",
     "output_type": "stream",
     "text": [
      "The list after append is\n",
      "[1, 'Rama', '2nd Year', 'CSE', 85.8, 'promoted']\n"
     ]
    }
   ],
   "source": [
    "student_data = [1, 'Rama', '2nd Year', 'CSE', 85.80]\n",
    "student_data.append('promoted')\n",
    "print(f'The list after append is\\n{student_data}')"
   ]
  },
  {
   "cell_type": "markdown",
   "metadata": {},
   "source": [
    "### 2.extend(iterable)"
   ]
  },
  {
   "cell_type": "code",
   "execution_count": 12,
   "metadata": {},
   "outputs": [
    {
     "name": "stdout",
     "output_type": "stream",
     "text": [
      "['python', 'java']\n",
      "['python', 'java', 'programming', 'language']\n"
     ]
    }
   ],
   "source": [
    "a = [\"python\", \"java\"]\n",
    "print(a)\n",
    "a.extend([\"programming\", \"language\"])\n",
    "print(a)"
   ]
  },
  {
   "cell_type": "code",
   "execution_count": 15,
   "metadata": {},
   "outputs": [
    {
     "name": "stdout",
     "output_type": "stream",
     "text": [
      "4\n"
     ]
    }
   ],
   "source": [
    "x = [1, 2, 3]\n",
    "x.append([4, 5])\n",
    "print (len(x))"
   ]
  },
  {
   "cell_type": "code",
   "execution_count": 19,
   "metadata": {},
   "outputs": [
    {
     "name": "stdout",
     "output_type": "stream",
     "text": [
      "[1, 2, [4, 5], 3]\n"
     ]
    }
   ],
   "source": [
    "x = [1, 2, 3]\n",
    "x.insert(2,[4, 5])\n",
    "print (x)"
   ]
  },
  {
   "cell_type": "code",
   "execution_count": 16,
   "metadata": {},
   "outputs": [
    {
     "name": "stdout",
     "output_type": "stream",
     "text": [
      "5\n"
     ]
    }
   ],
   "source": [
    "x = [1, 2, 3]\n",
    "x.extend([4, 5])\n",
    "print (len(x))"
   ]
  },
  {
   "cell_type": "markdown",
   "metadata": {},
   "source": [
    "### 3.insert(i, x)"
   ]
  },
  {
   "cell_type": "code",
   "execution_count": 17,
   "metadata": {},
   "outputs": [
    {
     "name": "stdout",
     "output_type": "stream",
     "text": [
      "['python', 'java']\n",
      "['programming', 'python', 'java']\n",
      "['programming', 'python', 'language', 'java']\n"
     ]
    }
   ],
   "source": [
    "a = [\"python\", \"java\"]\n",
    "print(a)\n",
    "a.insert(0, \"programming\")\n",
    "print(a)\n",
    "a.insert(2, \"language\")\n",
    "print(a)"
   ]
  },
  {
   "cell_type": "code",
   "execution_count": 20,
   "metadata": {},
   "outputs": [
    {
     "name": "stdout",
     "output_type": "stream",
     "text": [
      "The list after insertion at index 2 is\n",
      "[1, 'Rama', 'promoted', '2nd Year', 'CSE', 85.8]\n"
     ]
    }
   ],
   "source": [
    "student_data = [1, 'Rama', '2nd Year', 'CSE', 85.80]\n",
    "student_data.insert(2, 'promoted')\n",
    "print(f'The list after insertion at index 2 is\\n{student_data}')"
   ]
  },
  {
   "cell_type": "markdown",
   "metadata": {},
   "source": [
    "# Removing elements from a list in Python"
   ]
  },
  {
   "cell_type": "markdown",
   "metadata": {},
   "source": [
    "remove(value) - This method removes the specified element from the list. If the specified element is not found in the list, then the execution terminates with an error message.\n",
    "\n",
    "pop( ) or pop(index) - This method removes the last element from the list. But, when it is used with an index value, it removes the value at the specified index from the list.\n",
    "\n",
    "clear( ) - This method removes all the elements from the list. The clear( ) method makes the list empty.\n",
    "\n",
    "del Keyword - This keyword removes the complete list from the memory. After del keyword used with a list, we can not use it again.\n",
    "\n"
   ]
  },
  {
   "cell_type": "code",
   "execution_count": 22,
   "metadata": {},
   "outputs": [
    {
     "name": "stdout",
     "output_type": "stream",
     "text": [
      "The list is - [1, 2, 3, 4, 5, 6, 7, 8, 9]\n",
      "The list after removing 6 is - [1, 2, 3, 4, 5, 7, 8, 9]\n",
      "The list after pop is - [1, 2, 3, 4, 5, 7, 8]\n",
      "The list after pop with index 2 is - [1, 2, 4, 5, 7, 8]\n",
      "The list after clear is - []\n"
     ]
    }
   ],
   "source": [
    "my_list = [1, 2, 3, 4, 5, 6, 7, 8, 9]\n",
    "print(f'The list is - {my_list}')\n",
    "my_list.remove(6)\n",
    "print(f'The list after removing 6 is - {my_list}')\n",
    "\n",
    "\n",
    "my_list.pop()\n",
    "print(f'The list after pop is - {my_list}')\n",
    "\n",
    "my_list.pop(2)\n",
    "print(f'The list after pop with index 2 is - {my_list}')\n",
    "\n",
    "my_list.clear()\n",
    "print(f'The list after clear is - {my_list}')\n",
    "del my_list\n",
    "#print(f'The list after del keyword used is - {my_list}') # GENERATES ERROR"
   ]
  },
  {
   "cell_type": "code",
   "execution_count": 23,
   "metadata": {},
   "outputs": [
    {
     "ename": "NameError",
     "evalue": "name 'my_list' is not defined",
     "output_type": "error",
     "traceback": [
      "\u001b[1;31m---------------------------------------------------------------------------\u001b[0m",
      "\u001b[1;31mNameError\u001b[0m                                 Traceback (most recent call last)",
      "\u001b[1;32m<ipython-input-23-9af163499740>\u001b[0m in \u001b[0;36m<module>\u001b[1;34m\u001b[0m\n\u001b[1;32m----> 1\u001b[1;33m \u001b[0mmy_list\u001b[0m\u001b[1;33m\u001b[0m\u001b[1;33m\u001b[0m\u001b[0m\n\u001b[0m",
      "\u001b[1;31mNameError\u001b[0m: name 'my_list' is not defined"
     ]
    }
   ],
   "source": [
    "my_list"
   ]
  },
  {
   "cell_type": "markdown",
   "metadata": {},
   "source": [
    "### 4.remove(x)"
   ]
  },
  {
   "cell_type": "code",
   "execution_count": null,
   "metadata": {},
   "outputs": [],
   "source": [
    "a = [\"python\", \"java\"]\n",
    "print(a)\n",
    "a.remove(\"java\")\n",
    "print(a)"
   ]
  },
  {
   "cell_type": "code",
   "execution_count": null,
   "metadata": {},
   "outputs": [],
   "source": []
  },
  {
   "cell_type": "markdown",
   "metadata": {},
   "source": [
    "### 5.pop([i])"
   ]
  },
  {
   "cell_type": "code",
   "execution_count": 1,
   "metadata": {},
   "outputs": [
    {
     "name": "stdout",
     "output_type": "stream",
     "text": [
      "['python', 'java']\n",
      "['python']\n",
      "['python', 'java']\n",
      "['python']\n"
     ]
    }
   ],
   "source": [
    "# Example 1: No index specified\n",
    "a = [\"python\", \"java\"]\n",
    "print(a)\n",
    "a.pop()\n",
    "print(a)\n",
    "\n",
    "# Example 2: Index specified\n",
    "a = [\"python\", \"java\"]\n",
    "print(a)\n",
    "a.pop(1)\n",
    "print(a)"
   ]
  },
  {
   "cell_type": "code",
   "execution_count": null,
   "metadata": {},
   "outputs": [],
   "source": []
  },
  {
   "cell_type": "markdown",
   "metadata": {},
   "source": [
    "### 6.clear()"
   ]
  },
  {
   "cell_type": "code",
   "execution_count": null,
   "metadata": {},
   "outputs": [],
   "source": [
    "a = [\"python\", \"java\"]\n",
    "print(a)\n",
    "a.clear()\n",
    "print(a)"
   ]
  },
  {
   "cell_type": "code",
   "execution_count": null,
   "metadata": {},
   "outputs": [],
   "source": []
  },
  {
   "cell_type": "markdown",
   "metadata": {},
   "source": [
    "### 7.index(x[, start[, end]])"
   ]
  },
  {
   "cell_type": "code",
   "execution_count": 3,
   "metadata": {},
   "outputs": [
    {
     "name": "stdout",
     "output_type": "stream",
     "text": [
      "0\n",
      "1\n"
     ]
    }
   ],
   "source": [
    "a = [\"python\", \"java\"]\n",
    "print(a.index(\"python\"))\n",
    "print(a.index(\"java\", 1))"
   ]
  },
  {
   "cell_type": "markdown",
   "metadata": {},
   "source": [
    "# COUNT Element of list"
   ]
  },
  {
   "cell_type": "markdown",
   "metadata": {},
   "source": [
    "### 8.count(x)"
   ]
  },
  {
   "cell_type": "code",
   "execution_count": 24,
   "metadata": {},
   "outputs": [
    {
     "name": "stdout",
     "output_type": "stream",
     "text": [
      "2\n",
      "2\n",
      "0\n"
     ]
    }
   ],
   "source": [
    "a = [\"python\", \"java\",\"python\", \"java\"]\n",
    "print(a.count(\"python\"))\n",
    "print(a.count(\"java\"))\n",
    "print(a.count(\"\"))"
   ]
  },
  {
   "cell_type": "code",
   "execution_count": 25,
   "metadata": {},
   "outputs": [
    {
     "name": "stdout",
     "output_type": "stream",
     "text": [
      "The list is - [1, 2, 3, 4, 5, 6, 7, 8, 9, 2, 5, 2]\n",
      "The value 2 appears 3 times in the list.\n"
     ]
    }
   ],
   "source": [
    "my_list = [1, 2, 3, 4, 5, 6, 7, 8, 9, 2, 5, 2]\n",
    "print(f'The list is - {my_list}')\n",
    "print(f'The value 2 appears {my_list.count(2)} times in the list.')"
   ]
  },
  {
   "cell_type": "markdown",
   "metadata": {},
   "source": [
    "# Sort Element of list"
   ]
  },
  {
   "cell_type": "markdown",
   "metadata": {},
   "source": [
    "### 9.sort(key=None, reverse=False)"
   ]
  },
  {
   "cell_type": "code",
   "execution_count": 27,
   "metadata": {},
   "outputs": [
    {
     "name": "stdout",
     "output_type": "stream",
     "text": [
      "[1, 2, 3, 4, 5, 6]\n",
      "[6, 5, 4, 3, 2, 1]\n",
      "['c', 'c++', 'go', 'java', 'java', 'python', 'python']\n",
      "['java', 'java', 'python', 'python']\n",
      "['java', 'java', 'python', 'python']\n"
     ]
    }
   ],
   "source": [
    "a = [3,6,5,2,4,1]\n",
    "a.sort()\n",
    "print(a)\n",
    "\n",
    "a = [3,6,5,2,4,1]\n",
    "a.sort(reverse=True)\n",
    "print(a)\n",
    "\n",
    "a = [\"python\", \"java\",\"python\", \"java\",\"c++\",\"c\",\"go\"]\n",
    "a.sort()\n",
    "print(a)\n",
    "\n",
    "a = [\"python\", \"java\",\"python\", \"java\",]\n",
    "a.sort(key=len)\n",
    "print(a)\n",
    "\n",
    "a = [\"python\", \"java\",\"python\", \"java\",]\n",
    "a.sort(key=len, reverse=False)\n",
    "print(a)"
   ]
  },
  {
   "cell_type": "markdown",
   "metadata": {},
   "source": [
    "# Reverse element of list"
   ]
  },
  {
   "cell_type": "markdown",
   "metadata": {},
   "source": [
    "### 10.reverse()"
   ]
  },
  {
   "cell_type": "code",
   "execution_count": 28,
   "metadata": {},
   "outputs": [
    {
     "name": "stdout",
     "output_type": "stream",
     "text": [
      "[1, 4, 2, 5, 6, 3]\n",
      "['go', 'c', 'c++', 'java', 'python', 'java', 'python']\n"
     ]
    }
   ],
   "source": [
    "a = [3,6,5,2,4,1]\n",
    "a.reverse()\n",
    "print(a)\n",
    "\n",
    "a =[\"python\", \"java\",\"python\", \"java\",\"c++\",\"c\",\"go\"]\n",
    "a.reverse()\n",
    "print(a)"
   ]
  },
  {
   "cell_type": "code",
   "execution_count": 29,
   "metadata": {},
   "outputs": [
    {
     "name": "stdout",
     "output_type": "stream",
     "text": [
      "The list is - [12, 2, 5, 90, 30, 40, 3]\n",
      "Reverse of the list is - [3, 40, 30, 90, 5, 2, 12]\n"
     ]
    }
   ],
   "source": [
    "my_list = [12, 2, 5, 90, 30, 40, 3]\n",
    "print(f'The list is - {my_list}')\n",
    "my_list.reverse()\n",
    "print(f'Reverse of the list is - {my_list}')"
   ]
  },
  {
   "cell_type": "markdown",
   "metadata": {},
   "source": [
    "### copy()"
   ]
  },
  {
   "cell_type": "code",
   "execution_count": 30,
   "metadata": {},
   "outputs": [
    {
     "name": "stdout",
     "output_type": "stream",
     "text": [
      "['python', 'java', 'python', 'java', 'c++', 'c', 'go', 'pascal']\n",
      "['python', 'java', 'python', 'java', 'c++', 'c', 'go', 'pascal']\n",
      "['python', 'java', 'python', 'java', 'c++', 'c', 'go']\n",
      "['python', 'java', 'python', 'java', 'c++', 'c', 'go', 'panda']\n"
     ]
    }
   ],
   "source": [
    "# WITHOUT copy()\n",
    "a = [\"python\", \"java\",\"python\", \"java\",\"c++\",\"c\",\"go\"]\n",
    "b = a\n",
    "b.append(\"pascal\")\n",
    "print(a)\n",
    "print(b)\n",
    "\n",
    "# WITH copy()\n",
    "a = [\"python\", \"java\",\"python\", \"java\",\"c++\",\"c\",\"go\"]\n",
    "b = a.copy()\n",
    "b.append(\"panda\")\n",
    "print(a)\n",
    "print(b)"
   ]
  },
  {
   "cell_type": "code",
   "execution_count": 31,
   "metadata": {},
   "outputs": [
    {
     "name": "stdout",
     "output_type": "stream",
     "text": [
      "Old List:  [1, 2, 3, 4, 5]\n",
      "New List:  [1, 2, 3, 4, 5]\n",
      "Runtime of the program is 1.0017075538635254\n",
      "Old List:  [1, 2, 3, 4, 5]\n",
      "New List:  [1, 2, 3, 4, 5]\n",
      "Runtime of the program is 1.0038566589355469\n",
      "Old List:  [1, 2, 3, 4, 5]\n",
      "New List:  [1, 2, 3, 4, 5]\n",
      "Runtime of the program is 1.0031397342681885\n",
      "Old List:  [[1, 1, 1], [2, 2, 2], [3, 3, 3]]\n",
      "New List:  [[1, 1, 1], [2, 2, 2], [3, 3, 3]]\n",
      "Runtime of the program is 1.0013477802276611\n",
      "Old List:  [[1, 1, 1], [2, 2, 2], [3, 3, 3]]\n",
      "New List:  [[1, 1, 1], [2, 2, 2], [3, 3, 3]]\n",
      "Runtime of the program is 1.002586841583252\n",
      "Old List:  [1, 2, 3, 4, 5]\n",
      "New List:  [[1, 2, 3, 4, 5]]\n",
      "Runtime of the program is 1.0028412342071533\n"
     ]
    }
   ],
   "source": [
    "\n",
    "# Python program for list copy you have to modify the original list contents, the new list will also be modified.\n",
    "#1\n",
    "import time\n",
    "start_time = time.time()\n",
    "my_list = [1, 2, 3, 4, 5]\n",
    "copy_list = my_list\n",
    "print('Old List: ', my_list)\n",
    "print('New List: ', copy_list)\n",
    "time.sleep(1)\n",
    "end = time.time()\n",
    "print(f\"Runtime of the program is {end - start_time}\")\n",
    "\n",
    "\n",
    "#2\n",
    "start_time = time.time()\n",
    "my_list = [1, 2, 3, 4, 5]\n",
    "copy_list = my_list.copy()\n",
    "print('Old List: ', my_list)\n",
    "print('New List: ', copy_list)\n",
    "time.sleep(1)\n",
    "end = time.time()\n",
    "print(f\"Runtime of the program is {end - start_time}\")\n",
    "\n",
    "\n",
    "\n",
    "#3\n",
    "import time\n",
    "start_time = time.time()\n",
    "my_list = [1, 2, 3, 4, 5]\n",
    "copy_list = my_list[:]\n",
    "print('Old List: ', my_list)\n",
    "print('New List: ', copy_list)\n",
    "time.sleep(1)\n",
    "end = time.time()\n",
    "print(f\"Runtime of the program is {end - start_time}\")\n",
    "\n",
    "\n",
    "\n",
    "#A deep copy is a method through which the elements of a list are copied recursively. \n",
    "#if you make any changes to the copy of the object, it will not affect the original object.\n",
    "# 4\n",
    "import copy\n",
    "# Declare recursive list\n",
    "start_time = time.time()\n",
    "my_list =  [[1, 1, 1], [2, 2, 2], [3, 3, 3]]\n",
    "\n",
    "# Copy list using deepcopy() method\n",
    "copy_list = copy.deepcopy(my_list)\n",
    "\n",
    "print('Old List: ', my_list)\n",
    "print('New List: ', copy_list)\n",
    "time.sleep(1)\n",
    "end = time.time()\n",
    "print(f\"Runtime of the program is {end - start_time}\")\n",
    "\n",
    "\n",
    "\n",
    "#changes in the copy will not affect the original.\n",
    "# Python program for list copy\n",
    "# Using shallow copy method\n",
    "#5\n",
    "import copy\n",
    "# Declare recursive list\n",
    "start_time = time.time()\n",
    "my_list =  [[1, 1, 1], [2, 2, 2], [3, 3, 3]]\n",
    "# Copy list using copy() method\n",
    "copy_list = copy.copy(my_list)\n",
    "\n",
    "print('Old List: ', my_list)\n",
    "print('New List: ', copy_list)\n",
    "time.sleep(1)\n",
    "end = time.time()\n",
    "print(f\"Runtime of the program is {end - start_time}\")\n",
    "\n",
    "\n",
    "\n",
    "\n",
    "\n",
    "\n",
    "#6\n",
    "start_time = time.time()\n",
    "my_list =  [1, 2, 3, 4, 5]\n",
    "\n",
    "# Declare empty final list\n",
    "copy_list = []\n",
    "\n",
    "# Copy list using extend() method\n",
    "\n",
    "copy_list.extend([my_list])\n",
    "\n",
    "print('Old List: ', my_list)\n",
    "print('New List: ', copy_list)\n",
    "time.sleep(1)\n",
    "end = time.time()\n",
    "print(f\"Runtime of the program is {end - start_time}\")\n"
   ]
  },
  {
   "cell_type": "code",
   "execution_count": null,
   "metadata": {},
   "outputs": [],
   "source": []
  },
  {
   "cell_type": "markdown",
   "metadata": {},
   "source": [
    "# Multidimensional Lists in Python"
   ]
  },
  {
   "cell_type": "code",
   "execution_count": 37,
   "metadata": {},
   "outputs": [
    {
     "name": "stdout",
     "output_type": "stream",
     "text": [
      "[[2, 4, 6, 8, 10], [3, 6, 9, 12, 15], [4, 8, 12, 16, 20], [5, 10, 15, 20, 25]]\n",
      "[[2, 4, 6, 8, 10], [3, 6, 9, 12, 15], [4, 8, 12, 16, 20], 12, 14, 16, 18]\n",
      "[[4, 8, 12, 16, 20], [3, 6, 9, 12, 15], [2, 4, 6, 8, 10]]\n"
     ]
    }
   ],
   "source": [
    "# #1\n",
    "# a = [[2, 4, 6, 8, 10], [3, 6, 9, 12, 15], [4, 8, 12, 16, 20]] \n",
    "# print(a) \n",
    "\n",
    "# #2\n",
    "\n",
    "# a = [[2, 4, 6, 8, 10], [3, 6, 9, 12, 15], [4, 8, 12, 16, 20]] \n",
    "# for record in a: \n",
    "#     print(record) \n",
    "    \n",
    "# #3\n",
    "# a = [ [2, 4, 6, 8 ], \n",
    "#     [ 1, 3, 5, 7 ], \n",
    "#     [ 8, 6, 4, 2 ], \n",
    "#     [ 7, 5, 3, 1 ] ] \n",
    "\n",
    "# for i in range(len(a)) : \n",
    "#     for j in range(len(a[i])) : \n",
    "#         print(a[i][j], end=\" \") \n",
    "#     print()\n",
    "\n",
    "\n",
    "# #4\n",
    "# m = 4\n",
    "# n = 5\n",
    "# a = [[0 for x in range(n)] for x in range(m)] \n",
    "# print(a) \n",
    "\n",
    "# #METHODS\n",
    "# #append\n",
    "# # Adding a sublist \n",
    "\n",
    "a = [[2, 4, 6, 8, 10], [3, 6, 9, 12, 15], [4, 8, 12, 16, 20]] \n",
    "a.append([5, 10, 15, 20, 25]) \n",
    "print(a) \n",
    "\n",
    "#extend\n",
    "a = [[2, 4, 6, 8, 10], [3, 6, 9, 12, 15], [4, 8, 12, 16, 20]] \n",
    "a.extend([12, 14, 16, 18]) \n",
    "print(a) \n",
    "\n",
    "#reverse\n",
    "a = [[2, 4, 6, 8, 10], [3, 6, 9, 12, 15], [4, 8, 12, 16, 20]] \n",
    "a.reverse() \n",
    "print(a) \n",
    "\n",
    "\n"
   ]
  },
  {
   "cell_type": "code",
   "execution_count": null,
   "metadata": {},
   "outputs": [],
   "source": []
  },
  {
   "cell_type": "code",
   "execution_count": 38,
   "metadata": {},
   "outputs": [
    {
     "data": {
      "text/plain": [
       "[['caramel', 'P&B', 'Jelly'], ['onions', 'potatoes'], ['flour', 'oil']]"
      ]
     },
     "execution_count": 38,
     "metadata": {},
     "output_type": "execute_result"
    }
   ],
   "source": [
    "grocery_list=[['caramel','P&B','Jelly'],['onions','potatoes'],['flour','oil']]\n",
    "grocery_list"
   ]
  },
  {
   "cell_type": "code",
   "execution_count": 40,
   "metadata": {},
   "outputs": [
    {
     "data": {
      "text/plain": [
       "'flour'"
      ]
     },
     "execution_count": 40,
     "metadata": {},
     "output_type": "execute_result"
    }
   ],
   "source": [
    "grocery_list[2][0]"
   ]
  },
  {
   "cell_type": "code",
   "execution_count": null,
   "metadata": {},
   "outputs": [],
   "source": []
  },
  {
   "cell_type": "code",
   "execution_count": null,
   "metadata": {},
   "outputs": [],
   "source": []
  },
  {
   "cell_type": "code",
   "execution_count": 41,
   "metadata": {},
   "outputs": [
    {
     "data": {
      "text/plain": [
       "[[[1, 2], [3, 4], 5], [6, 7]]"
      ]
     },
     "execution_count": 41,
     "metadata": {},
     "output_type": "execute_result"
    }
   ],
   "source": [
    "a=[[[1,2],[3,4],5],[6,7]]\n",
    "a"
   ]
  },
  {
   "cell_type": "code",
   "execution_count": 42,
   "metadata": {},
   "outputs": [
    {
     "data": {
      "text/plain": [
       "3"
      ]
     },
     "execution_count": 42,
     "metadata": {},
     "output_type": "execute_result"
    }
   ],
   "source": [
    "a[0][1]"
   ]
  },
  {
   "cell_type": "code",
   "execution_count": 44,
   "metadata": {},
   "outputs": [
    {
     "data": {
      "text/plain": [
       "[4, 9, 16, 25, 36, 49, 64, 81]"
      ]
     },
     "execution_count": 44,
     "metadata": {},
     "output_type": "execute_result"
    }
   ],
   "source": [
    "# #For Loop\n",
    "# sqr = [] \n",
    "# for i in range(2,10):\n",
    "#     sqr.append(i**2)\n",
    "# sqr\n",
    "\n",
    "\n",
    "\n",
    "#List Comprehension\n",
    "[i**2 for i in range(2,10)]"
   ]
  },
  {
   "cell_type": "code",
   "execution_count": 46,
   "metadata": {},
   "outputs": [
    {
     "name": "stdout",
     "output_type": "stream",
     "text": [
      "Runtime of the program is 1.0008604526519775\n"
     ]
    }
   ],
   "source": [
    "# #For Loop\n",
    "# import copy\n",
    "# # Declare recursive list\n",
    "# start_time = time.time()\n",
    "# sqr = [] \n",
    "# for x in range(1, 10):\n",
    "#     if x%2 == 0:\n",
    "#         sqr.append(x**2)\n",
    "# time.sleep(1)\n",
    "# end = time.time()\n",
    "# print(f\"Runtime of the program is {end - start_time}\")\n",
    "\n",
    "\n",
    "        \n",
    "start_time = time.time()\n",
    "#List Comprehension\n",
    "l1= [x**2 for x in range(1, 10) if x % 2 == 0]\n",
    "time.sleep(1)\n",
    "end = time.time()\n",
    "print(f\"Runtime of the program is {end - start_time}\")\n",
    "\n",
    "\n"
   ]
  },
  {
   "cell_type": "code",
   "execution_count": 48,
   "metadata": {},
   "outputs": [
    {
     "data": {
      "text/plain": [
       "['dipa', 'mahi', 'DISHA']"
      ]
     },
     "execution_count": 48,
     "metadata": {},
     "output_type": "execute_result"
    }
   ],
   "source": [
    "#For Loop\n",
    "k = [] \n",
    "mylist = ['Dipa', 'Mahi', 'Disha']\n",
    "for x in mylist:\n",
    "    if len(x) > 4:\n",
    "        k.append(x.upper())\n",
    "    else:\n",
    "        k.append(x.lower())\n",
    "k\n",
    "\n",
    "#List Comprehension\n",
    "mylist = ['Dipa', 'Mahi', 'Disha']\n",
    "[x.upper() if len(x)>4 else x.lower() for x in mylist]"
   ]
  },
  {
   "cell_type": "code",
   "execution_count": 55,
   "metadata": {},
   "outputs": [
    {
     "name": "stdout",
     "output_type": "stream",
     "text": [
      "7*1=7\n",
      "7*2=14\n",
      "7*3=21\n",
      "7*4=28\n",
      "7*5=35\n",
      "7*6=42\n",
      "7*7=49\n",
      "7*8=56\n",
      "7*9=63\n",
      "7*10=70\n",
      "8*1=8\n",
      "8*2=16\n",
      "8*3=24\n",
      "8*4=32\n",
      "8*5=40\n",
      "8*6=48\n",
      "8*7=56\n",
      "8*8=64\n",
      "8*9=72\n",
      "8*10=80\n"
     ]
    },
    {
     "data": {
      "text/plain": [
       "[[7, 14, 21, 28, 35, 42, 49, 56, 63, 70],\n",
       " [8, 16, 24, 32, 40, 48, 56, 64, 72, 80]]"
      ]
     },
     "execution_count": 55,
     "metadata": {},
     "output_type": "execute_result"
    }
   ],
   "source": [
    "for i in range(7,9):\n",
    "        for j in range(1,11):\n",
    "               print(f\"{i}*{j}={i*j}\")\n",
    "                \n",
    "                \n",
    "# #list Comp\n",
    "[[i*j for j in range(1,11)] for i in range(7,9)]"
   ]
  },
  {
   "cell_type": "code",
   "execution_count": null,
   "metadata": {},
   "outputs": [],
   "source": []
  },
  {
   "cell_type": "code",
   "execution_count": 56,
   "metadata": {},
   "outputs": [
    {
     "data": {
      "text/plain": [
       "[2, 4, 6, 8, 10, 12, 14, 16, 18, 20]"
      ]
     },
     "execution_count": 56,
     "metadata": {},
     "output_type": "execute_result"
    }
   ],
   "source": [
    "even=[2*i for i in range(1,11)]\n",
    "even"
   ]
  },
  {
   "cell_type": "code",
   "execution_count": 57,
   "metadata": {},
   "outputs": [
    {
     "data": {
      "text/plain": [
       "[6, 12, 18]"
      ]
     },
     "execution_count": 57,
     "metadata": {},
     "output_type": "execute_result"
    }
   ],
   "source": [
    "even=[2*i for i in range(1,11) if i%3==0]\n",
    "even"
   ]
  },
  {
   "cell_type": "code",
   "execution_count": null,
   "metadata": {},
   "outputs": [],
   "source": []
  },
  {
   "cell_type": "code",
   "execution_count": null,
   "metadata": {},
   "outputs": [],
   "source": []
  },
  {
   "cell_type": "code",
   "execution_count": null,
   "metadata": {},
   "outputs": [],
   "source": []
  },
  {
   "cell_type": "markdown",
   "metadata": {},
   "source": [
    "# Excercise"
   ]
  },
  {
   "cell_type": "code",
   "execution_count": 4,
   "metadata": {},
   "outputs": [
    {
     "data": {
      "text/plain": [
       "['Linz', 'Salzburg', 'Vienna']"
      ]
     },
     "execution_count": 4,
     "metadata": {},
     "output_type": "execute_result"
    }
   ],
   "source": [
    "cities = [\"Hamburg\", \"Linz\", \"Salzburg\", \"Vienna\"]\n",
    "cities.pop(0)\n",
    "cities"
   ]
  },
  {
   "cell_type": "code",
   "execution_count": 59,
   "metadata": {},
   "outputs": [
    {
     "data": {
      "text/plain": [
       "'Strasbourg'"
      ]
     },
     "execution_count": 59,
     "metadata": {},
     "output_type": "execute_result"
    }
   ],
   "source": [
    "cities = [\"Amsterdam\", \"The Hague\", \"Strasbourg\"]\n",
    "cities.pop()   "
   ]
  },
  {
   "cell_type": "code",
   "execution_count": 60,
   "metadata": {},
   "outputs": [
    {
     "data": {
      "text/plain": [
       "[42, 98, 77, [8, 69]]"
      ]
     },
     "execution_count": 60,
     "metadata": {},
     "output_type": "execute_result"
    }
   ],
   "source": [
    "lst = [42,98,77]\n",
    "lst2 = [8,69]\n",
    "lst.append(lst2)\n",
    "lst\n"
   ]
  },
  {
   "cell_type": "code",
   "execution_count": 61,
   "metadata": {},
   "outputs": [
    {
     "data": {
      "text/plain": [
       "[42, 98, 77, 8, 69]"
      ]
     },
     "execution_count": 61,
     "metadata": {},
     "output_type": "execute_result"
    }
   ],
   "source": [
    "lst = [42,98,77]\n",
    "lst2 = [8,69]\n",
    "lst.extend(lst2)\n",
    "lst"
   ]
  },
  {
   "cell_type": "code",
   "execution_count": 62,
   "metadata": {},
   "outputs": [
    {
     "name": "stdout",
     "output_type": "stream",
     "text": [
      "['a', 'b', 'c', 'P', 'y', 't', 'h', 'o', 'n']\n"
     ]
    }
   ],
   "source": [
    "lst = [\"a\", \"b\", \"c\"]\n",
    "programming_language = \"Python\"\n",
    "lst.extend(programming_language)\n",
    "print(lst)"
   ]
  },
  {
   "cell_type": "code",
   "execution_count": 63,
   "metadata": {},
   "outputs": [
    {
     "data": {
      "text/plain": [
       "['beginner', 'intermediate', 'advanced', 'novice', 'expert']"
      ]
     },
     "execution_count": 63,
     "metadata": {},
     "output_type": "execute_result"
    }
   ],
   "source": [
    "level = [\"beginner\", \"intermediate\", \"advanced\"]\n",
    "other_words = [\"novice\", \"expert\"]\n",
    "level + other_words\n"
   ]
  },
  {
   "cell_type": "code",
   "execution_count": 66,
   "metadata": {},
   "outputs": [
    {
     "ename": "TypeError",
     "evalue": "'tuple' object does not support item assignment",
     "output_type": "error",
     "traceback": [
      "\u001b[1;31m---------------------------------------------------------------------------\u001b[0m",
      "\u001b[1;31mTypeError\u001b[0m                                 Traceback (most recent call last)",
      "\u001b[1;32m<ipython-input-66-83678e39b964>\u001b[0m in \u001b[0;36m<module>\u001b[1;34m\u001b[0m\n\u001b[0;32m      4\u001b[0m \u001b[1;31m# # languages\u001b[0m\u001b[1;33m\u001b[0m\u001b[1;33m\u001b[0m\u001b[1;33m\u001b[0m\u001b[0m\n\u001b[0;32m      5\u001b[0m \u001b[0mlanguages\u001b[0m\u001b[1;33m=\u001b[0m\u001b[1;33m[\u001b[0m\u001b[1;33m(\u001b[0m\u001b[1;34m'English'\u001b[0m\u001b[1;33m,\u001b[0m\u001b[1;34m'Albanian'\u001b[0m\u001b[1;33m)\u001b[0m\u001b[1;33m,\u001b[0m\u001b[1;34m'Gujarati'\u001b[0m\u001b[1;33m,\u001b[0m\u001b[1;34m'Hindi'\u001b[0m\u001b[1;33m,\u001b[0m\u001b[1;34m'Romanian'\u001b[0m\u001b[1;33m,\u001b[0m\u001b[1;34m'Spanish'\u001b[0m\u001b[1;33m]\u001b[0m\u001b[1;33m\u001b[0m\u001b[1;33m\u001b[0m\u001b[0m\n\u001b[1;32m----> 6\u001b[1;33m \u001b[0mlanguages\u001b[0m\u001b[1;33m[\u001b[0m\u001b[1;36m0\u001b[0m\u001b[1;33m]\u001b[0m\u001b[1;33m[\u001b[0m\u001b[1;36m0\u001b[0m\u001b[1;33m]\u001b[0m\u001b[1;33m=\u001b[0m\u001b[1;34m'Albanian'\u001b[0m\u001b[1;33m\u001b[0m\u001b[1;33m\u001b[0m\u001b[0m\n\u001b[0m\u001b[0;32m      7\u001b[0m \u001b[0mtype\u001b[0m\u001b[1;33m(\u001b[0m\u001b[0mlanguages\u001b[0m\u001b[1;33m[\u001b[0m\u001b[1;36m0\u001b[0m\u001b[1;33m]\u001b[0m\u001b[1;33m)\u001b[0m\u001b[1;33m\u001b[0m\u001b[1;33m\u001b[0m\u001b[0m\n",
      "\u001b[1;31mTypeError\u001b[0m: 'tuple' object does not support item assignment"
     ]
    }
   ],
   "source": [
    "# languages=[['English'],['Gujarati'],['Hindi'],'Romanian','Spanish']\n",
    "\n",
    "# type(languages[0])\n",
    "# # languages\n",
    "languages=[('English','Albanian'),'Gujarati','Hindi','Romanian','Spanish']\n",
    "languages[0][0]='Albanian'\n",
    "type(languages[0])\n"
   ]
  },
  {
   "cell_type": "code",
   "execution_count": 67,
   "metadata": {},
   "outputs": [
    {
     "name": "stdout",
     "output_type": "stream",
     "text": [
      "Red\n",
      "Print the rainbow\n",
      "red\n",
      "Orange\n",
      "Yellow\n",
      "Green\n",
      "Blue\n",
      "Indigo\n",
      "Violet\n"
     ]
    }
   ],
   "source": [
    "Rainbow = ['Red', 'Orange', 'Yellow', 'Green', 'Blue', 'Indigo', 'Violet']\n",
    "print(Rainbow[0])\n",
    "Rainbow[0] = 'red'\n",
    "print('Print the rainbow')\n",
    "for i in range(len(Rainbow)):\n",
    "    print(Rainbow[i])"
   ]
  },
  {
   "cell_type": "code",
   "execution_count": null,
   "metadata": {},
   "outputs": [],
   "source": []
  },
  {
   "cell_type": "code",
   "execution_count": 68,
   "metadata": {},
   "outputs": [
    {
     "name": "stdout",
     "output_type": "stream",
     "text": [
      "1\n",
      "2\n",
      "3\n",
      "4\n",
      "5\n",
      "[1, 2, 3, 4, 5]\n"
     ]
    }
   ],
   "source": [
    "a = [] # start an empty list\n",
    "n = 5 # read number of element in the list\n",
    "for i in range(n): \n",
    "    new_element = int(input()) # read next element\n",
    "    a.append(new_element) # add it to the list\n",
    "    # the last two lines could be replaced by one:\n",
    "    # a.append(int(input()))\n",
    "print(a)"
   ]
  },
  {
   "cell_type": "code",
   "execution_count": null,
   "metadata": {},
   "outputs": [],
   "source": []
  },
  {
   "cell_type": "code",
   "execution_count": null,
   "metadata": {},
   "outputs": [],
   "source": [
    "a = [1, 2, 3]\n",
    "b = [4, 5]\n",
    "c = a + b\n",
    "d = b * 3\n",
    "print([7, 8] + [9])\n",
    "print([0, 1] * 3)"
   ]
  },
  {
   "cell_type": "code",
   "execution_count": null,
   "metadata": {},
   "outputs": [],
   "source": []
  },
  {
   "cell_type": "code",
   "execution_count": null,
   "metadata": {},
   "outputs": [],
   "source": [
    "s = '123'\n",
    "digits = []\n",
    "for symbol in s:\n",
    "    if '1234567890'.find(symbol) != -1:\n",
    "        digits.append(int(symbol))\n",
    "print(digits)"
   ]
  },
  {
   "cell_type": "code",
   "execution_count": null,
   "metadata": {},
   "outputs": [],
   "source": []
  },
  {
   "cell_type": "code",
   "execution_count": null,
   "metadata": {},
   "outputs": [],
   "source": [
    "A = [1, 2, 3, 4, 5]\n",
    "A[2:4] = [7, 8, 9]\n",
    "print(A)"
   ]
  },
  {
   "cell_type": "code",
   "execution_count": null,
   "metadata": {},
   "outputs": [],
   "source": []
  },
  {
   "cell_type": "code",
   "execution_count": null,
   "metadata": {},
   "outputs": [],
   "source": [
    "A = [1, 2, 3, 4, 5, 6, 7]\n",
    "A[::-2] = [10, 20, 30, 40]\n",
    "print(A)"
   ]
  },
  {
   "cell_type": "code",
   "execution_count": null,
   "metadata": {},
   "outputs": [],
   "source": [
    "#append\n",
    "mylist = [1,2,3]\n",
    "mylist.append((\"apple\", \"banana\", \"cherry\"))\n",
    "print(\"Append tuple: \",mylist)\n",
    "\n",
    "# Append list with set\n",
    "mylist = [1,2,3]\n",
    "mylist.append({\"apple\", \"banana\", \"cherry\"})\n",
    "print(\"Append set: \",mylist)\n",
    "\n",
    "# Append list to empty list\n",
    "mylist = []\n",
    "mylist.append([\"apple\", \"banana\", \"cherry\"])\n",
    "print(\"Append to empty list: \",mylist)"
   ]
  },
  {
   "cell_type": "code",
   "execution_count": null,
   "metadata": {},
   "outputs": [],
   "source": [
    "#extend\n",
    "mylist = [1,2,3]\n",
    "mylist.extend((\"apple\", \"banana\", \"cherry\"))\n",
    "print(\"Append tuple: \",mylist)\n",
    "# Extend list with Set\n",
    "\n",
    "mylist = [1,2,3]\n",
    "mylist.extend({\"apple\", \"banana\", \"cherry\"})\n",
    "print(\"Append set: \",mylist)"
   ]
  },
  {
   "cell_type": "code",
   "execution_count": null,
   "metadata": {},
   "outputs": [],
   "source": [
    "[i for i in 'datascience']"
   ]
  },
  {
   "cell_type": "code",
   "execution_count": null,
   "metadata": {},
   "outputs": [],
   "source": [
    "[i*2 for i in {3,1,2}]"
   ]
  },
  {
   "cell_type": "code",
   "execution_count": 5,
   "metadata": {},
   "outputs": [
    {
     "name": "stdout",
     "output_type": "stream",
     "text": [
      "4\n"
     ]
    }
   ],
   "source": [
    "def a(b):\n",
    "    b = b + [5]\n",
    " \n",
    "c = [1, 2, 3, 4]\n",
    "a(c)\n",
    "print(len(c))"
   ]
  },
  {
   "cell_type": "code",
   "execution_count": null,
   "metadata": {},
   "outputs": [],
   "source": []
  },
  {
   "cell_type": "code",
   "execution_count": null,
   "metadata": {},
   "outputs": [],
   "source": []
  }
 ],
 "metadata": {
  "kernelspec": {
   "display_name": "Python 3",
   "language": "python",
   "name": "python3"
  },
  "language_info": {
   "codemirror_mode": {
    "name": "ipython",
    "version": 3
   },
   "file_extension": ".py",
   "mimetype": "text/x-python",
   "name": "python",
   "nbconvert_exporter": "python",
   "pygments_lexer": "ipython3",
   "version": "3.8.5"
  }
 },
 "nbformat": 4,
 "nbformat_minor": 4
}
